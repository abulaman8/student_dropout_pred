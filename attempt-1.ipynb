{
 "cells": [
  {
   "cell_type": "code",
   "execution_count": 1,
   "id": "e911fd16",
   "metadata": {
    "_cell_guid": "b1076dfc-b9ad-4769-8c92-a6c4dae69d19",
    "_uuid": "8f2839f25d086af736a60e9eeb907d3b93b6e0e5",
    "execution": {
     "iopub.execute_input": "2022-08-09T09:29:33.142877Z",
     "iopub.status.busy": "2022-08-09T09:29:33.141795Z",
     "iopub.status.idle": "2022-08-09T09:29:33.166048Z",
     "shell.execute_reply": "2022-08-09T09:29:33.164815Z"
    },
    "papermill": {
     "duration": 0.034315,
     "end_time": "2022-08-09T09:29:33.168901",
     "exception": false,
     "start_time": "2022-08-09T09:29:33.134586",
     "status": "completed"
    },
    "tags": []
   },
   "outputs": [
    {
     "name": "stdout",
     "output_type": "stream",
     "text": [
      "/kaggle/input/students-drop-out-prediction/train.csv\n",
      "/kaggle/input/students-drop-out-prediction/test.csv\n",
      "/kaggle/input/train/train.csv\n"
     ]
    }
   ],
   "source": [
    "# This Python 3 environment comes with many helpful analytics libraries installed\n",
    "# It is defined by the kaggle/python Docker image: https://github.com/kaggle/docker-python\n",
    "# For example, here's several helpful packages to load\n",
    "\n",
    "import numpy as np # linear algebra\n",
    "import pandas as pd # data processing, CSV file I/O (e.g. pd.read_csv)\n",
    "\n",
    "# Input data files are available in the read-only \"../input/\" directory\n",
    "# For example, running this (by clicking run or pressing Shift+Enter) will list all files under the input directory\n",
    "\n",
    "import os\n",
    "for dirname, _, filenames in os.walk('/kaggle/input'):\n",
    "    for filename in filenames:\n",
    "        print(os.path.join(dirname, filename))\n",
    "\n",
    "# You can write up to 20GB to the current directory (/kaggle/working/) that gets preserved as output when you create a version using \"Save & Run All\" \n",
    "# You can also write temporary files to /kaggle/temp/, but they won't be saved outside of the current session"
   ]
  },
  {
   "cell_type": "code",
   "execution_count": 2,
   "id": "4eb0724b",
   "metadata": {
    "execution": {
     "iopub.execute_input": "2022-08-09T09:29:33.180357Z",
     "iopub.status.busy": "2022-08-09T09:29:33.179527Z",
     "iopub.status.idle": "2022-08-09T09:29:35.054632Z",
     "shell.execute_reply": "2022-08-09T09:29:35.053355Z"
    },
    "papermill": {
     "duration": 1.884615,
     "end_time": "2022-08-09T09:29:35.057993",
     "exception": false,
     "start_time": "2022-08-09T09:29:33.173378",
     "status": "completed"
    },
    "tags": []
   },
   "outputs": [],
   "source": [
    "import pandas as pd\n",
    "from sklearn.ensemble import RandomForestClassifier, StackingClassifier, GradientBoostingClassifier\n",
    "from xgboost import XGBClassifier\n",
    "from sklearn.neural_network import MLPClassifier\n",
    "from sklearn.preprocessing import StandardScaler"
   ]
  },
  {
   "cell_type": "code",
   "execution_count": 3,
   "id": "f7f6854b",
   "metadata": {
    "execution": {
     "iopub.execute_input": "2022-08-09T09:29:35.070870Z",
     "iopub.status.busy": "2022-08-09T09:29:35.070110Z",
     "iopub.status.idle": "2022-08-09T09:29:35.133913Z",
     "shell.execute_reply": "2022-08-09T09:29:35.132671Z"
    },
    "papermill": {
     "duration": 0.074671,
     "end_time": "2022-08-09T09:29:35.136732",
     "exception": false,
     "start_time": "2022-08-09T09:29:35.062061",
     "status": "completed"
    },
    "tags": []
   },
   "outputs": [],
   "source": [
    "train_data = pd.read_csv('/kaggle/input/students-drop-out-prediction/train.csv')\n",
    "test_data = pd.read_csv('/kaggle/input/students-drop-out-prediction/test.csv')"
   ]
  },
  {
   "cell_type": "code",
   "execution_count": 4,
   "id": "4daf70f9",
   "metadata": {
    "execution": {
     "iopub.execute_input": "2022-08-09T09:29:35.147711Z",
     "iopub.status.busy": "2022-08-09T09:29:35.146807Z",
     "iopub.status.idle": "2022-08-09T09:29:35.164560Z",
     "shell.execute_reply": "2022-08-09T09:29:35.163285Z"
    },
    "papermill": {
     "duration": 0.026955,
     "end_time": "2022-08-09T09:29:35.167790",
     "exception": false,
     "start_time": "2022-08-09T09:29:35.140835",
     "status": "completed"
    },
    "tags": []
   },
   "outputs": [],
   "source": [
    "keys = list(train_data.keys())\n",
    "X_train, y_train = train_data[keys[1:-1]], train_data['label']"
   ]
  },
  {
   "cell_type": "code",
   "execution_count": 5,
   "id": "784d69a0",
   "metadata": {
    "execution": {
     "iopub.execute_input": "2022-08-09T09:29:35.178028Z",
     "iopub.status.busy": "2022-08-09T09:29:35.177208Z",
     "iopub.status.idle": "2022-08-09T09:29:35.183849Z",
     "shell.execute_reply": "2022-08-09T09:29:35.182917Z"
    },
    "papermill": {
     "duration": 0.014615,
     "end_time": "2022-08-09T09:29:35.186402",
     "exception": false,
     "start_time": "2022-08-09T09:29:35.171787",
     "status": "completed"
    },
    "tags": []
   },
   "outputs": [],
   "source": [
    "X_test = test_data[keys[1:-1]]"
   ]
  },
  {
   "cell_type": "code",
   "execution_count": 6,
   "id": "8c585623",
   "metadata": {
    "execution": {
     "iopub.execute_input": "2022-08-09T09:29:35.196495Z",
     "iopub.status.busy": "2022-08-09T09:29:35.195707Z",
     "iopub.status.idle": "2022-08-09T09:29:35.219223Z",
     "shell.execute_reply": "2022-08-09T09:29:35.217780Z"
    },
    "papermill": {
     "duration": 0.032819,
     "end_time": "2022-08-09T09:29:35.223191",
     "exception": false,
     "start_time": "2022-08-09T09:29:35.190372",
     "status": "completed"
    },
    "tags": []
   },
   "outputs": [],
   "source": [
    "sc = StandardScaler()\n",
    "X_train = sc.fit_transform(X_train)\n",
    "X_test = sc.fit_transform(X_test)"
   ]
  },
  {
   "cell_type": "code",
   "execution_count": 7,
   "id": "1fcab0e6",
   "metadata": {
    "execution": {
     "iopub.execute_input": "2022-08-09T09:29:35.234051Z",
     "iopub.status.busy": "2022-08-09T09:29:35.232888Z",
     "iopub.status.idle": "2022-08-09T09:30:24.665601Z",
     "shell.execute_reply": "2022-08-09T09:30:24.664313Z"
    },
    "papermill": {
     "duration": 49.441297,
     "end_time": "2022-08-09T09:30:24.668964",
     "exception": false,
     "start_time": "2022-08-09T09:29:35.227667",
     "status": "completed"
    },
    "tags": []
   },
   "outputs": [
    {
     "name": "stderr",
     "output_type": "stream",
     "text": [
      "/opt/conda/lib/python3.7/site-packages/sklearn/neural_network/_multilayer_perceptron.py:696: ConvergenceWarning: Stochastic Optimizer: Maximum iterations (200) reached and the optimization hasn't converged yet.\n",
      "  ConvergenceWarning,\n"
     ]
    }
   ],
   "source": [
    "estimators = [\n",
    "    ('rf', RandomForestClassifier(random_state=8, max_features = 25)),\n",
    "    ('gb', GradientBoostingClassifier(random_state=8)),\n",
    "    ('xgb', XGBClassifier(random_state=8))\n",
    "]\n",
    "\n",
    "sclf = StackingClassifier(\n",
    "    estimators=estimators,\n",
    "    final_estimator=MLPClassifier()\n",
    ")\n",
    "\n",
    "fitted_sclf = sclf.fit(X_train, y_train)"
   ]
  },
  {
   "cell_type": "code",
   "execution_count": 8,
   "id": "7f9f2faa",
   "metadata": {
    "execution": {
     "iopub.execute_input": "2022-08-09T09:30:24.679849Z",
     "iopub.status.busy": "2022-08-09T09:30:24.679111Z",
     "iopub.status.idle": "2022-08-09T09:30:24.834989Z",
     "shell.execute_reply": "2022-08-09T09:30:24.833080Z"
    },
    "papermill": {
     "duration": 0.165004,
     "end_time": "2022-08-09T09:30:24.838434",
     "exception": false,
     "start_time": "2022-08-09T09:30:24.673430",
     "status": "completed"
    },
    "tags": []
   },
   "outputs": [],
   "source": [
    "y_pred = fitted_sclf.predict(X_train)"
   ]
  },
  {
   "cell_type": "code",
   "execution_count": 9,
   "id": "82ea5412",
   "metadata": {
    "execution": {
     "iopub.execute_input": "2022-08-09T09:30:24.854675Z",
     "iopub.status.busy": "2022-08-09T09:30:24.853669Z",
     "iopub.status.idle": "2022-08-09T09:30:25.056045Z",
     "shell.execute_reply": "2022-08-09T09:30:25.053933Z"
    },
    "papermill": {
     "duration": 0.217403,
     "end_time": "2022-08-09T09:30:25.060545",
     "exception": false,
     "start_time": "2022-08-09T09:30:24.843142",
     "status": "completed"
    },
    "tags": []
   },
   "outputs": [
    {
     "data": {
      "text/plain": [
       "0.934931506849315"
      ]
     },
     "execution_count": 9,
     "metadata": {},
     "output_type": "execute_result"
    }
   ],
   "source": [
    "fitted_sclf.score(X_train, y_train)"
   ]
  },
  {
   "cell_type": "code",
   "execution_count": 10,
   "id": "66daa87b",
   "metadata": {
    "execution": {
     "iopub.execute_input": "2022-08-09T09:30:25.090603Z",
     "iopub.status.busy": "2022-08-09T09:30:25.089815Z",
     "iopub.status.idle": "2022-08-09T09:30:25.215216Z",
     "shell.execute_reply": "2022-08-09T09:30:25.213592Z"
    },
    "papermill": {
     "duration": 0.140423,
     "end_time": "2022-08-09T09:30:25.218325",
     "exception": false,
     "start_time": "2022-08-09T09:30:25.077902",
     "status": "completed"
    },
    "tags": []
   },
   "outputs": [],
   "source": [
    "test_pred = fitted_sclf.predict(X_test)"
   ]
  },
  {
   "cell_type": "code",
   "execution_count": 11,
   "id": "63bff9a2",
   "metadata": {
    "execution": {
     "iopub.execute_input": "2022-08-09T09:30:25.245588Z",
     "iopub.status.busy": "2022-08-09T09:30:25.244772Z",
     "iopub.status.idle": "2022-08-09T09:30:25.279917Z",
     "shell.execute_reply": "2022-08-09T09:30:25.278296Z"
    },
    "papermill": {
     "duration": 0.056921,
     "end_time": "2022-08-09T09:30:25.284431",
     "exception": false,
     "start_time": "2022-08-09T09:30:25.227510",
     "status": "completed"
    },
    "tags": []
   },
   "outputs": [
    {
     "data": {
      "text/html": [
       "<div>\n",
       "<style scoped>\n",
       "    .dataframe tbody tr th:only-of-type {\n",
       "        vertical-align: middle;\n",
       "    }\n",
       "\n",
       "    .dataframe tbody tr th {\n",
       "        vertical-align: top;\n",
       "    }\n",
       "\n",
       "    .dataframe thead th {\n",
       "        text-align: right;\n",
       "    }\n",
       "</style>\n",
       "<table border=\"1\" class=\"dataframe\">\n",
       "  <thead>\n",
       "    <tr style=\"text-align: right;\">\n",
       "      <th></th>\n",
       "      <th>id</th>\n",
       "      <th>label</th>\n",
       "    </tr>\n",
       "  </thead>\n",
       "  <tbody>\n",
       "    <tr>\n",
       "      <th>0</th>\n",
       "      <td>0</td>\n",
       "      <td>1</td>\n",
       "    </tr>\n",
       "    <tr>\n",
       "      <th>1</th>\n",
       "      <td>1</td>\n",
       "      <td>1</td>\n",
       "    </tr>\n",
       "    <tr>\n",
       "      <th>2</th>\n",
       "      <td>2</td>\n",
       "      <td>1</td>\n",
       "    </tr>\n",
       "    <tr>\n",
       "      <th>3</th>\n",
       "      <td>3</td>\n",
       "      <td>1</td>\n",
       "    </tr>\n",
       "    <tr>\n",
       "      <th>4</th>\n",
       "      <td>4</td>\n",
       "      <td>1</td>\n",
       "    </tr>\n",
       "    <tr>\n",
       "      <th>...</th>\n",
       "      <td>...</td>\n",
       "      <td>...</td>\n",
       "    </tr>\n",
       "    <tr>\n",
       "      <th>1623</th>\n",
       "      <td>1623</td>\n",
       "      <td>0</td>\n",
       "    </tr>\n",
       "    <tr>\n",
       "      <th>1624</th>\n",
       "      <td>1624</td>\n",
       "      <td>1</td>\n",
       "    </tr>\n",
       "    <tr>\n",
       "      <th>1625</th>\n",
       "      <td>1625</td>\n",
       "      <td>0</td>\n",
       "    </tr>\n",
       "    <tr>\n",
       "      <th>1626</th>\n",
       "      <td>1626</td>\n",
       "      <td>2</td>\n",
       "    </tr>\n",
       "    <tr>\n",
       "      <th>1627</th>\n",
       "      <td>1627</td>\n",
       "      <td>2</td>\n",
       "    </tr>\n",
       "  </tbody>\n",
       "</table>\n",
       "<p>1628 rows × 2 columns</p>\n",
       "</div>"
      ],
      "text/plain": [
       "        id  label\n",
       "0        0      1\n",
       "1        1      1\n",
       "2        2      1\n",
       "3        3      1\n",
       "4        4      1\n",
       "...    ...    ...\n",
       "1623  1623      0\n",
       "1624  1624      1\n",
       "1625  1625      0\n",
       "1626  1626      2\n",
       "1627  1627      2\n",
       "\n",
       "[1628 rows x 2 columns]"
      ]
     },
     "execution_count": 11,
     "metadata": {},
     "output_type": "execute_result"
    }
   ],
   "source": [
    "df = pd.DataFrame(range(len(test_pred)), columns=['id'])\n",
    "df['label'] = test_pred\n",
    "df"
   ]
  },
  {
   "cell_type": "code",
   "execution_count": 12,
   "id": "bdc0f6c1",
   "metadata": {
    "execution": {
     "iopub.execute_input": "2022-08-09T09:30:25.309247Z",
     "iopub.status.busy": "2022-08-09T09:30:25.308459Z",
     "iopub.status.idle": "2022-08-09T09:30:25.331003Z",
     "shell.execute_reply": "2022-08-09T09:30:25.329322Z"
    },
    "papermill": {
     "duration": 0.038505,
     "end_time": "2022-08-09T09:30:25.334120",
     "exception": false,
     "start_time": "2022-08-09T09:30:25.295615",
     "status": "completed"
    },
    "tags": []
   },
   "outputs": [],
   "source": [
    "df.to_csv('submission.csv', index=False)"
   ]
  }
 ],
 "metadata": {
  "kernelspec": {
   "display_name": "Python 3",
   "language": "python",
   "name": "python3"
  },
  "language_info": {
   "codemirror_mode": {
    "name": "ipython",
    "version": 3
   },
   "file_extension": ".py",
   "mimetype": "text/x-python",
   "name": "python",
   "nbconvert_exporter": "python",
   "pygments_lexer": "ipython3",
   "version": "3.7.12"
  },
  "papermill": {
   "default_parameters": {},
   "duration": 64.48116,
   "end_time": "2022-08-09T09:30:26.264365",
   "environment_variables": {},
   "exception": null,
   "input_path": "__notebook__.ipynb",
   "output_path": "__notebook__.ipynb",
   "parameters": {},
   "start_time": "2022-08-09T09:29:21.783205",
   "version": "2.3.4"
  }
 },
 "nbformat": 4,
 "nbformat_minor": 5
}
